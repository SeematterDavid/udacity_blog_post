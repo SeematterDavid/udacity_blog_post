{
 "cells": [
  {
   "cell_type": "markdown",
   "metadata": {},
   "source": [
    "# Title\n",
    "blabla"
   ]
  },
  {
   "cell_type": "markdown",
   "metadata": {},
   "source": [
    "### Install necessary packages"
   ]
  },
  {
   "cell_type": "code",
   "execution_count": 1,
   "metadata": {},
   "outputs": [],
   "source": [
    "import pandas as pd\n",
    "import numpy as np\n",
    "from sklearn.linear_model import LinearRegression\n",
    "from sklearn.model_selection import train_test_split\n",
    "from sklearn.metrics import r2_score, mean_squared_error\n",
    "from matplotlib import pyplot as plt\n",
    "from sklearn.cluster import KMeans\n",
    "import math\n",
    "import seaborn as sns"
   ]
  },
  {
   "cell_type": "markdown",
   "metadata": {},
   "source": [
    "### Load data "
   ]
  },
  {
   "cell_type": "code",
   "execution_count": 2,
   "metadata": {},
   "outputs": [],
   "source": [
    "df = pd.read_csv(\"listings_antwerpen.csv\")"
   ]
  },
  {
   "cell_type": "code",
   "execution_count": 3,
   "metadata": {
    "scrolled": true
   },
   "outputs": [
    {
     "data": {
      "text/html": [
       "<div>\n",
       "<style scoped>\n",
       "    .dataframe tbody tr th:only-of-type {\n",
       "        vertical-align: middle;\n",
       "    }\n",
       "\n",
       "    .dataframe tbody tr th {\n",
       "        vertical-align: top;\n",
       "    }\n",
       "\n",
       "    .dataframe thead th {\n",
       "        text-align: right;\n",
       "    }\n",
       "</style>\n",
       "<table border=\"1\" class=\"dataframe\">\n",
       "  <thead>\n",
       "    <tr style=\"text-align: right;\">\n",
       "      <th></th>\n",
       "      <th>id</th>\n",
       "      <th>name</th>\n",
       "      <th>host_id</th>\n",
       "      <th>host_name</th>\n",
       "      <th>neighbourhood_group</th>\n",
       "      <th>neighbourhood</th>\n",
       "      <th>latitude</th>\n",
       "      <th>longitude</th>\n",
       "      <th>room_type</th>\n",
       "      <th>price</th>\n",
       "      <th>minimum_nights</th>\n",
       "      <th>number_of_reviews</th>\n",
       "      <th>last_review</th>\n",
       "      <th>reviews_per_month</th>\n",
       "      <th>calculated_host_listings_count</th>\n",
       "      <th>availability_365</th>\n",
       "    </tr>\n",
       "  </thead>\n",
       "  <tbody>\n",
       "    <tr>\n",
       "      <th>0</th>\n",
       "      <td>50904</td>\n",
       "      <td>aplace/antwerp: cosy suite - fashion district</td>\n",
       "      <td>234077</td>\n",
       "      <td>Karin</td>\n",
       "      <td>NaN</td>\n",
       "      <td>Historisch Centrum</td>\n",
       "      <td>51.21825</td>\n",
       "      <td>4.39901</td>\n",
       "      <td>Hotel room</td>\n",
       "      <td>109</td>\n",
       "      <td>1</td>\n",
       "      <td>1</td>\n",
       "      <td>5/6/2015</td>\n",
       "      <td>0.01</td>\n",
       "      <td>4</td>\n",
       "      <td>263</td>\n",
       "    </tr>\n",
       "    <tr>\n",
       "      <th>1</th>\n",
       "      <td>116134</td>\n",
       "      <td>Trendy Vacation Apartment Antwerp</td>\n",
       "      <td>586942</td>\n",
       "      <td>Paul</td>\n",
       "      <td>NaN</td>\n",
       "      <td>Eilandje</td>\n",
       "      <td>51.23051</td>\n",
       "      <td>4.40593</td>\n",
       "      <td>Entire home/apt</td>\n",
       "      <td>150</td>\n",
       "      <td>2</td>\n",
       "      <td>101</td>\n",
       "      <td>9/5/2020</td>\n",
       "      <td>0.96</td>\n",
       "      <td>1</td>\n",
       "      <td>358</td>\n",
       "    </tr>\n",
       "    <tr>\n",
       "      <th>2</th>\n",
       "      <td>224333</td>\n",
       "      <td>Large stylish room in 1930s house + garden</td>\n",
       "      <td>1167377</td>\n",
       "      <td>Geert</td>\n",
       "      <td>NaN</td>\n",
       "      <td>Deurne Zuid West</td>\n",
       "      <td>51.19772</td>\n",
       "      <td>4.45853</td>\n",
       "      <td>Private room</td>\n",
       "      <td>16</td>\n",
       "      <td>14</td>\n",
       "      <td>2</td>\n",
       "      <td>7/4/2020</td>\n",
       "      <td>0.02</td>\n",
       "      <td>2</td>\n",
       "      <td>359</td>\n",
       "    </tr>\n",
       "    <tr>\n",
       "      <th>3</th>\n",
       "      <td>224682</td>\n",
       "      <td>APARTMENT ROSCAM - OLD CENTRE ANTWERP</td>\n",
       "      <td>1263933</td>\n",
       "      <td>Kristien</td>\n",
       "      <td>NaN</td>\n",
       "      <td>Sint-Andries</td>\n",
       "      <td>51.21722</td>\n",
       "      <td>4.39790</td>\n",
       "      <td>Entire home/apt</td>\n",
       "      <td>115</td>\n",
       "      <td>2</td>\n",
       "      <td>336</td>\n",
       "      <td>3/8/2020</td>\n",
       "      <td>3.18</td>\n",
       "      <td>1</td>\n",
       "      <td>147</td>\n",
       "    </tr>\n",
       "    <tr>\n",
       "      <th>4</th>\n",
       "      <td>345959</td>\n",
       "      <td>Marleen's home in Antwerp city</td>\n",
       "      <td>1754396</td>\n",
       "      <td>Marleen</td>\n",
       "      <td>NaN</td>\n",
       "      <td>Markgrave</td>\n",
       "      <td>51.19935</td>\n",
       "      <td>4.40154</td>\n",
       "      <td>Entire home/apt</td>\n",
       "      <td>55</td>\n",
       "      <td>2</td>\n",
       "      <td>55</td>\n",
       "      <td>9/22/2020</td>\n",
       "      <td>0.53</td>\n",
       "      <td>2</td>\n",
       "      <td>338</td>\n",
       "    </tr>\n",
       "  </tbody>\n",
       "</table>\n",
       "</div>"
      ],
      "text/plain": [
       "       id                                           name  host_id host_name  \\\n",
       "0   50904  aplace/antwerp: cosy suite - fashion district   234077     Karin   \n",
       "1  116134              Trendy Vacation Apartment Antwerp   586942      Paul   \n",
       "2  224333     Large stylish room in 1930s house + garden  1167377     Geert   \n",
       "3  224682          APARTMENT ROSCAM - OLD CENTRE ANTWERP  1263933  Kristien   \n",
       "4  345959                 Marleen's home in Antwerp city  1754396   Marleen   \n",
       "\n",
       "   neighbourhood_group       neighbourhood  latitude  longitude  \\\n",
       "0                  NaN  Historisch Centrum  51.21825    4.39901   \n",
       "1                  NaN            Eilandje  51.23051    4.40593   \n",
       "2                  NaN    Deurne Zuid West  51.19772    4.45853   \n",
       "3                  NaN        Sint-Andries  51.21722    4.39790   \n",
       "4                  NaN           Markgrave  51.19935    4.40154   \n",
       "\n",
       "         room_type  price  minimum_nights  number_of_reviews last_review  \\\n",
       "0       Hotel room    109               1                  1    5/6/2015   \n",
       "1  Entire home/apt    150               2                101    9/5/2020   \n",
       "2     Private room     16              14                  2    7/4/2020   \n",
       "3  Entire home/apt    115               2                336    3/8/2020   \n",
       "4  Entire home/apt     55               2                 55   9/22/2020   \n",
       "\n",
       "   reviews_per_month  calculated_host_listings_count  availability_365  \n",
       "0               0.01                               4               263  \n",
       "1               0.96                               1               358  \n",
       "2               0.02                               2               359  \n",
       "3               3.18                               1               147  \n",
       "4               0.53                               2               338  "
      ]
     },
     "execution_count": 3,
     "metadata": {},
     "output_type": "execute_result"
    }
   ],
   "source": [
    "df.head()"
   ]
  },
  {
   "cell_type": "markdown",
   "metadata": {},
   "source": [
    "### Data processing"
   ]
  },
  {
   "cell_type": "markdown",
   "metadata": {},
   "source": [
    "Lets check for nulls in the column values first"
   ]
  },
  {
   "cell_type": "code",
   "execution_count": 4,
   "metadata": {},
   "outputs": [
    {
     "data": {
      "text/plain": [
       "id                                   0\n",
       "name                                 0\n",
       "host_id                              0\n",
       "host_name                            1\n",
       "neighbourhood_group               1703\n",
       "neighbourhood                        0\n",
       "latitude                             0\n",
       "longitude                            0\n",
       "room_type                            0\n",
       "price                                0\n",
       "minimum_nights                       0\n",
       "number_of_reviews                    0\n",
       "last_review                        309\n",
       "reviews_per_month                  309\n",
       "calculated_host_listings_count       0\n",
       "availability_365                     0\n",
       "dtype: int64"
      ]
     },
     "execution_count": 4,
     "metadata": {},
     "output_type": "execute_result"
    }
   ],
   "source": [
    "df.isnull().sum()"
   ]
  },
  {
   "cell_type": "code",
   "execution_count": 5,
   "metadata": {},
   "outputs": [],
   "source": [
    "df = df.drop(columns=['neighbourhood_group'])"
   ]
  },
  {
   "cell_type": "markdown",
   "metadata": {},
   "source": [
    "For now all data can be keept, as the specification of interest (room_type, price, neighbourhood, availability_365 and minimum nights) are all complete.\n",
    "\n",
    "Get an overview of the values contained in the attributes of interest and check whether the prices, minimum nights and availability per year have reasonable values for each attribute. "
   ]
  },
  {
   "cell_type": "code",
   "execution_count": 6,
   "metadata": {},
   "outputs": [
    {
     "data": {
      "text/plain": [
       "[array(['Hotel room', 'Entire home/apt', 'Private room', 'Shared room'],\n",
       "       dtype=object),              price  minimum_nights  availability_365\n",
       " count  1703.000000     1703.000000       1703.000000\n",
       " mean     90.819143        3.518497        224.576629\n",
       " std     120.394168       11.266695        127.269396\n",
       " min      12.000000        1.000000          0.000000\n",
       " 25%      49.000000        1.000000         90.000000\n",
       " 50%      70.000000        2.000000        242.000000\n",
       " 75%     100.000000        2.000000        358.000000\n",
       " max    3200.000000      300.000000        365.000000, array(['Historisch Centrum', 'Eilandje', 'Deurne Zuid West',\n",
       "        'Sint-Andries', 'Markgrave', 'Amandus - Atheneum',\n",
       "        'Borgerhout Intra Muros Noord', 'Hoogte', 'Harmonie',\n",
       "        'Borgerhout Intra Muros Zuid', 'Oud - Berchem', 'Stadspark',\n",
       "        'Linkeroever', 'Centraal Station', 'Universiteitsbuurt', 'Zuid',\n",
       "        'Zurenborg', 'Stuivenberg', 'Deurne Dorp - Gallifort',\n",
       "        'Haringrode', 'Groenenhoek', 'Oosterveld - Elsdonk',\n",
       "        'Deurne Noord', 'Theaterbuurt-Meir', 'Hoboken - Centrum',\n",
       "        'Deurne Zuid Oost', 'Kiel', 'Deurne Oost', 'Brederode',\n",
       "        'Nieuw - Kwartier West', 'Dam', 'Petroleum - Zuid',\n",
       "        'Borgerhout Extra Muros', 'Ekeren Centrum', 'Polder',\n",
       "        'Oud - Merksem', 'Nieuw - Kwartier Oost', 'Middelheim',\n",
       "        'Tentoonstellingswijk', 'Wilrijk Centrum', 'Hoboken - Noord',\n",
       "        'Merksem - Heide', 'Valaar', 'Nieuw - Zuid', 'Tuinwijk', 'Donk',\n",
       "        'Leugenberg', 'Nieuwdreef', 'Luchtbal', 'Rivierenhof',\n",
       "        'Lambrechtshoeken', 'Schoonbroek-Rozemaai', 'Hoboken - Zuidoost',\n",
       "        'Hoboken - West', 'Mariaburg', 'Lillo'], dtype=object)]"
      ]
     },
     "execution_count": 6,
     "metadata": {},
     "output_type": "execute_result"
    }
   ],
   "source": [
    "[df['room_type'].unique(), df[['price', 'minimum_nights','availability_365']].describe(), df['neighbourhood'].unique()]"
   ]
  },
  {
   "cell_type": "markdown",
   "metadata": {},
   "source": [
    "### Is it reasonable to use minimum_nights, availability and number of reviews to predict the price of airbnb objetcs in Antwerpen in a linear model? \n",
    "\n",
    "To answer this question lets follow the below steps:\n",
    "1. Preselect the features mentioned above.\n",
    "2. Run the feature selection via pearson corralation test and analyse the correlation within the resulting heatmap. \n",
    "3. To run a linear regression later ensure that independece assumption is met. This is done by checking the correlation between the input variables. "
   ]
  },
  {
   "cell_type": "markdown",
   "metadata": {},
   "source": [
    "1. Lets focus on the numerical values first. "
   ]
  },
  {
   "cell_type": "code",
   "execution_count": 7,
   "metadata": {},
   "outputs": [],
   "source": [
    "df_1 = df[['price', 'minimum_nights','availability_365','number_of_reviews']]"
   ]
  },
  {
   "cell_type": "markdown",
   "metadata": {},
   "source": [
    "2. The heatmap below shows the pearson-correlation between all of the attributes. A pearson-correlation of 1 indicates a perfect linear relationship, whereas 0 indicates no linear relationship at all.  "
   ]
  },
  {
   "cell_type": "code",
   "execution_count": 8,
   "metadata": {},
   "outputs": [
    {
     "data": {
      "image/png": "[encoded data removed]",
      "text/plain": [
       "<Figure size 360x360 with 2 Axes>"
      ]
     },
     "metadata": {
      "needs_background": "light"
     },
     "output_type": "display_data"
    }
   ],
   "source": [
    "plt.figure(figsize=(5,5))\n",
    "cor = df_1.corr()\n",
    "sns.heatmap(cor, annot=True, cmap=plt.cm.Reds)\n",
    "plt.show()"
   ]
  },
  {
   "cell_type": "markdown",
   "metadata": {},
   "source": [
    "3. From the abvoe result we could ensure the independence assuption for a linear regression model. However, since there seems to be only very little (linear-) correaltion among the attributes a prediction with a linear incluse of those would most likely not be very precise."
   ]
  },
  {
   "cell_type": "markdown",
   "metadata": {},
   "source": [
    "The result is as expected and forces us to dig deeper. There are two ideas of how to create two more feature from the existing data, that most likely will have better predicting power. "
   ]
  },
  {
   "cell_type": "markdown",
   "metadata": {},
   "source": [
    "### What are reasonable geograpical groups of Airbnb objects in Antwerpen? \n",
    "\n",
    "The two possibilities we want to check here are the neighbourhood and the distance to the city center.\n",
    "For this let us:\n",
    "1. Use the neighbourhoods given, to group the data.\n",
    "2. Group the neighbourhoods via k-means\n",
    "3. Calculate the distance for each point to the city center of Antwerpen (51.2212236,4.3989646, being the coordinates of the antwerpen town hall.)\n",
    "\n",
    "Then creat dummies for all the categories."
   ]
  },
  {
   "cell_type": "markdown",
   "metadata": {},
   "source": [
    "#### Firstly lets have a look at the neighbourhoods"
   ]
  },
  {
   "cell_type": "code",
   "execution_count": 9,
   "metadata": {},
   "outputs": [
    {
     "data": {
      "text/plain": [
       "Historisch Centrum              236\n",
       "Theaterbuurt-Meir               150\n",
       "Amandus - Atheneum              123\n",
       "Centraal Station                103\n",
       "Stadspark                       101\n",
       "Zuid                             93\n",
       "Sint-Andries                     75\n",
       "Universiteitsbuurt               74\n",
       "Borgerhout Intra Muros Zuid      67\n",
       "Brederode                        62\n",
       "Borgerhout Intra Muros Noord     57\n",
       "Eilandje                         55\n",
       "Stuivenberg                      53\n",
       "Oud - Berchem                    53\n",
       "Harmonie                         37\n",
       "Haringrode                       33\n",
       "Borgerhout Extra Muros           28\n",
       "Zurenborg                        25\n",
       "Groenenhoek                      22\n",
       "Markgrave                        22\n",
       "Deurne Zuid West                 21\n",
       "Kiel                             21\n",
       "Middelheim                       14\n",
       "Hoogte                           14\n",
       "Deurne Zuid Oost                 14\n",
       "Linkeroever                      14\n",
       "Hoboken - Centrum                14\n",
       "Nieuw - Kwartier Oost            11\n",
       "Oosterveld - Elsdonk             10\n",
       "Wilrijk Centrum                  10\n",
       "Deurne Noord                      9\n",
       "Oud - Merksem                     9\n",
       "Deurne Dorp - Gallifort           8\n",
       "Dam                               7\n",
       "Hoboken - Noord                   7\n",
       "Deurne Oost                       6\n",
       "Valaar                            6\n",
       "Nieuw - Kwartier West             6\n",
       "Ekeren Centrum                    5\n",
       "Tentoonstellingswijk              3\n",
       "Merksem - Heide                   3\n",
       "Nieuw - Zuid                      3\n",
       "Petroleum - Zuid                  2\n",
       "Schoonbroek-Rozemaai              2\n",
       "Tuinwijk                          2\n",
       "Hoboken - Zuidoost                2\n",
       "Polder                            2\n",
       "Hoboken - West                    1\n",
       "Rivierenhof                       1\n",
       "Mariaburg                         1\n",
       "Lillo                             1\n",
       "Nieuwdreef                        1\n",
       "Luchtbal                          1\n",
       "Donk                              1\n",
       "Lambrechtshoeken                  1\n",
       "Leugenberg                        1\n",
       "Name: neighbourhood, dtype: int64"
      ]
     },
     "execution_count": 9,
     "metadata": {},
     "output_type": "execute_result"
    }
   ],
   "source": [
    "df['neighbourhood'].value_counts()"
   ]
  },
  {
   "cell_type": "markdown",
   "metadata": {},
   "source": [
    "There are to many groups of neighbourhoods and many of them contain only very little objects. Therefore the data is celaned to only contain the objects in neighbourhoods with more than 30 objects."
   ]
  },
  {
   "cell_type": "code",
   "execution_count": 10,
   "metadata": {},
   "outputs": [],
   "source": [
    "list_above_30 = (df['neighbourhood'].value_counts()[df['neighbourhood'].value_counts()>=30]).index\n",
    "df_n = df[df['neighbourhood'].isin(list_above_30)].reset_index(drop=True)"
   ]
  },
  {
   "cell_type": "markdown",
   "metadata": {},
   "source": [
    "#### Second we generate cluster ids for each object using the (here somehow generically) approach of k-means clustering"
   ]
  },
  {
   "cell_type": "code",
   "execution_count": 48,
   "metadata": {},
   "outputs": [],
   "source": [
    "# Clustering the object du to their geographical position using 10 resultting clusters\n",
    "# and fixing the random state to replicate the work later on.\n",
    "X = df_n[['latitude','longitude']].to_numpy()\n",
    "kmeans = KMeans(n_clusters=10, random_state=0).fit(X)"
   ]
  },
  {
   "cell_type": "markdown",
   "metadata": {},
   "source": [
    "Let us have a look at the results in correspondence to the city center:"
   ]
  },
  {
   "cell_type": "code",
   "execution_count": 49,
   "metadata": {},
   "outputs": [
    {
     "data": {
      "text/plain": [
       "Text(40, -40, 'City Center')"
      ]
     },
     "execution_count": 49,
     "metadata": {},
     "output_type": "execute_result"
    },
    {
     "data": {
      "image/png": "[encoded data removed]",
      "text/plain": [
       "<Figure size 432x288 with 1 Axes>"
      ]
     },
     "metadata": {
      "needs_background": "light"
     },
     "output_type": "display_data"
    }
   ],
   "source": [
    "# .predict retruns the label 0-9 for each object, which corresponds to the cluster id.\n",
    "y_kmeans = kmeans.predict(X)\n",
    "plt.scatter(X[:,0],X[:,1], c=y_kmeans, s=50)\n",
    "\n",
    "# .cluster_center returns the coordinates of each cluster center 0 to 9.\n",
    "centers = kmeans.cluster_centers_\n",
    "plt.scatter(centers[:, 0], centers[:, 1], c='black', s=200, alpha=0.7)\n",
    "plt.plot(51.2212236,4.3989646, 'ro', ms=10)\n",
    "plt.annotate('City Center', xy=(51.2212236,4.3989646), xytext=(40,-40), \n",
    "            textcoords='offset points', ha='center', va='bottom',\n",
    "            bbox=dict(boxstyle='round,pad=0.2', fc='yellow', alpha=0.3),\n",
    "            arrowprops=dict(arrowstyle='->', connectionstyle='arc3,rad=0.5', \n",
    "                            color='red'))"
   ]
  },
  {
   "cell_type": "code",
   "execution_count": 13,
   "metadata": {},
   "outputs": [],
   "source": [
    "# Add new column to the dataframe containing the cluster id for each object\n",
    "df_n['cluster_id'] = y_kmeans"
   ]
  },
  {
   "cell_type": "markdown",
   "metadata": {},
   "source": [
    "#### Next we calculate the distances to the town hall for each object using the haversine distance formula and assesing the distance to each object at last"
   ]
  },
  {
   "cell_type": "code",
   "execution_count": 14,
   "metadata": {},
   "outputs": [],
   "source": [
    "distance_to_center = []\n",
    "lat_center = math.radians(51.2212236)\n",
    "lon_center = math.radians(4.3989646)\n",
    "r = 6373.0\n",
    "for i in range(0,len(df_n)):\n",
    "    lon = math.radians(df_n['longitude'].iloc[i])\n",
    "    lat = math.radians(df_n['latitude'].iloc[i])\n",
    "    \n",
    "    dlon = lon_center - lon\n",
    "    dlat = lat_center - lat\n",
    "    \n",
    "    a = math.sin(dlat / 2)**2 + math.cos(lat_center) * math.cos(lat) * math.sin(dlon / 2)**2\n",
    "    c = 2 * math.atan2(math.sqrt(a), math.sqrt(1 - a))\n",
    "    distance = r*c\n",
    "    \n",
    "    distance_to_center.append(distance)"
   ]
  },
  {
   "cell_type": "code",
   "execution_count": 15,
   "metadata": {},
   "outputs": [
    {
     "data": {
      "text/plain": [
       "count    1372.000000\n",
       "mean        1.440030\n",
       "std         0.837054\n",
       "min         0.024459\n",
       "25%         0.706400\n",
       "50%         1.411026\n",
       "75%         2.027448\n",
       "max         3.568530\n",
       "Name: distance_to_center, dtype: float64"
      ]
     },
     "execution_count": 15,
     "metadata": {},
     "output_type": "execute_result"
    }
   ],
   "source": [
    "df_n['distance_to_center'] = distance_to_center\n",
    "\n",
    "# Let us have a look at the resulting distances to make sure the calculations have a reasonable output.\n",
    "df_n['distance_to_center'].describe()"
   ]
  },
  {
   "cell_type": "markdown",
   "metadata": {},
   "source": [
    "The calculated distances seem to be reasonable compating with the clusters above. \n",
    "\n",
    "Alternatively one could use the packages gedesic or greatcircle form geaopy.distance or even the package for the haversine distance above to directly calculate the distances. "
   ]
  },
  {
   "cell_type": "code",
   "execution_count": 16,
   "metadata": {
    "scrolled": true
   },
   "outputs": [
    {
     "data": {
      "text/html": [
       "<div>\n",
       "<style scoped>\n",
       "    .dataframe tbody tr th:only-of-type {\n",
       "        vertical-align: middle;\n",
       "    }\n",
       "\n",
       "    .dataframe tbody tr th {\n",
       "        vertical-align: top;\n",
       "    }\n",
       "\n",
       "    .dataframe thead th {\n",
       "        text-align: right;\n",
       "    }\n",
       "</style>\n",
       "<table border=\"1\" class=\"dataframe\">\n",
       "  <thead>\n",
       "    <tr style=\"text-align: right;\">\n",
       "      <th></th>\n",
       "      <th>id</th>\n",
       "      <th>name</th>\n",
       "      <th>host_id</th>\n",
       "      <th>host_name</th>\n",
       "      <th>neighbourhood</th>\n",
       "      <th>latitude</th>\n",
       "      <th>longitude</th>\n",
       "      <th>room_type</th>\n",
       "      <th>price</th>\n",
       "      <th>minimum_nights</th>\n",
       "      <th>number_of_reviews</th>\n",
       "      <th>last_review</th>\n",
       "      <th>reviews_per_month</th>\n",
       "      <th>calculated_host_listings_count</th>\n",
       "      <th>availability_365</th>\n",
       "      <th>cluster_id</th>\n",
       "      <th>distance_to_center</th>\n",
       "    </tr>\n",
       "  </thead>\n",
       "  <tbody>\n",
       "    <tr>\n",
       "      <th>0</th>\n",
       "      <td>50904</td>\n",
       "      <td>aplace/antwerp: cosy suite - fashion district</td>\n",
       "      <td>234077</td>\n",
       "      <td>Karin</td>\n",
       "      <td>Historisch Centrum</td>\n",
       "      <td>51.21825</td>\n",
       "      <td>4.39901</td>\n",
       "      <td>Hotel room</td>\n",
       "      <td>109</td>\n",
       "      <td>1</td>\n",
       "      <td>1</td>\n",
       "      <td>5/6/2015</td>\n",
       "      <td>0.01</td>\n",
       "      <td>4</td>\n",
       "      <td>263</td>\n",
       "      <td>5</td>\n",
       "      <td>0.330768</td>\n",
       "    </tr>\n",
       "    <tr>\n",
       "      <th>1</th>\n",
       "      <td>116134</td>\n",
       "      <td>Trendy Vacation Apartment Antwerp</td>\n",
       "      <td>586942</td>\n",
       "      <td>Paul</td>\n",
       "      <td>Eilandje</td>\n",
       "      <td>51.23051</td>\n",
       "      <td>4.40593</td>\n",
       "      <td>Entire home/apt</td>\n",
       "      <td>150</td>\n",
       "      <td>2</td>\n",
       "      <td>101</td>\n",
       "      <td>9/5/2020</td>\n",
       "      <td>0.96</td>\n",
       "      <td>1</td>\n",
       "      <td>358</td>\n",
       "      <td>2</td>\n",
       "      <td>1.141205</td>\n",
       "    </tr>\n",
       "    <tr>\n",
       "      <th>2</th>\n",
       "      <td>224682</td>\n",
       "      <td>APARTMENT ROSCAM - OLD CENTRE ANTWERP</td>\n",
       "      <td>1263933</td>\n",
       "      <td>Kristien</td>\n",
       "      <td>Sint-Andries</td>\n",
       "      <td>51.21722</td>\n",
       "      <td>4.39790</td>\n",
       "      <td>Entire home/apt</td>\n",
       "      <td>115</td>\n",
       "      <td>2</td>\n",
       "      <td>336</td>\n",
       "      <td>3/8/2020</td>\n",
       "      <td>3.18</td>\n",
       "      <td>1</td>\n",
       "      <td>147</td>\n",
       "      <td>5</td>\n",
       "      <td>0.451454</td>\n",
       "    </tr>\n",
       "    <tr>\n",
       "      <th>3</th>\n",
       "      <td>363155</td>\n",
       "      <td>1-bedroom apartment with court yard</td>\n",
       "      <td>1835458</td>\n",
       "      <td>Roos</td>\n",
       "      <td>Amandus - Atheneum</td>\n",
       "      <td>51.22119</td>\n",
       "      <td>4.41951</td>\n",
       "      <td>Entire home/apt</td>\n",
       "      <td>47</td>\n",
       "      <td>2</td>\n",
       "      <td>19</td>\n",
       "      <td>10/20/2020</td>\n",
       "      <td>0.19</td>\n",
       "      <td>1</td>\n",
       "      <td>354</td>\n",
       "      <td>7</td>\n",
       "      <td>1.431299</td>\n",
       "    </tr>\n",
       "    <tr>\n",
       "      <th>4</th>\n",
       "      <td>366252</td>\n",
       "      <td>ROOM IN FAMILY HOME near C. Station</td>\n",
       "      <td>1820186</td>\n",
       "      <td>Fronk &amp; Lieve</td>\n",
       "      <td>Borgerhout Intra Muros Noord</td>\n",
       "      <td>51.21601</td>\n",
       "      <td>4.43432</td>\n",
       "      <td>Private room</td>\n",
       "      <td>35</td>\n",
       "      <td>1</td>\n",
       "      <td>104</td>\n",
       "      <td>9/15/2019</td>\n",
       "      <td>1.00</td>\n",
       "      <td>6</td>\n",
       "      <td>365</td>\n",
       "      <td>8</td>\n",
       "      <td>2.530514</td>\n",
       "    </tr>\n",
       "  </tbody>\n",
       "</table>\n",
       "</div>"
      ],
      "text/plain": [
       "       id                                           name  host_id  \\\n",
       "0   50904  aplace/antwerp: cosy suite - fashion district   234077   \n",
       "1  116134              Trendy Vacation Apartment Antwerp   586942   \n",
       "2  224682          APARTMENT ROSCAM - OLD CENTRE ANTWERP  1263933   \n",
       "3  363155            1-bedroom apartment with court yard  1835458   \n",
       "4  366252            ROOM IN FAMILY HOME near C. Station  1820186   \n",
       "\n",
       "       host_name                 neighbourhood  latitude  longitude  \\\n",
       "0          Karin            Historisch Centrum  51.21825    4.39901   \n",
       "1           Paul                      Eilandje  51.23051    4.40593   \n",
       "2       Kristien                  Sint-Andries  51.21722    4.39790   \n",
       "3           Roos            Amandus - Atheneum  51.22119    4.41951   \n",
       "4  Fronk & Lieve  Borgerhout Intra Muros Noord  51.21601    4.43432   \n",
       "\n",
       "         room_type  price  minimum_nights  number_of_reviews last_review  \\\n",
       "0       Hotel room    109               1                  1    5/6/2015   \n",
       "1  Entire home/apt    150               2                101    9/5/2020   \n",
       "2  Entire home/apt    115               2                336    3/8/2020   \n",
       "3  Entire home/apt     47               2                 19  10/20/2020   \n",
       "4     Private room     35               1                104   9/15/2019   \n",
       "\n",
       "   reviews_per_month  calculated_host_listings_count  availability_365  \\\n",
       "0               0.01                               4               263   \n",
       "1               0.96                               1               358   \n",
       "2               3.18                               1               147   \n",
       "3               0.19                               1               354   \n",
       "4               1.00                               6               365   \n",
       "\n",
       "   cluster_id  distance_to_center  \n",
       "0           5            0.330768  \n",
       "1           2            1.141205  \n",
       "2           5            0.451454  \n",
       "3           7            1.431299  \n",
       "4           8            2.530514  "
      ]
     },
     "execution_count": 16,
     "metadata": {},
     "output_type": "execute_result"
    }
   ],
   "source": [
    "df_n.head()"
   ]
  },
  {
   "cell_type": "markdown",
   "metadata": {},
   "source": [
    "Before we run the model to figure out the impact of the different clasiffications, let us have a look on the different room types as well"
   ]
  },
  {
   "cell_type": "code",
   "execution_count": 39,
   "metadata": {},
   "outputs": [
    {
     "data": {
      "text/plain": [
       "Entire home/apt    1053\n",
       "Private room        285\n",
       "Shared room          19\n",
       "Hotel room           15\n",
       "Name: room_type, dtype: int64"
      ]
     },
     "execution_count": 39,
     "metadata": {},
     "output_type": "execute_result"
    }
   ],
   "source": [
    "df_n['room_type'].value_counts()"
   ]
  },
  {
   "cell_type": "markdown",
   "metadata": {},
   "source": [
    "Even though the number of shared room and hotel objects ist quite small, the catergories are non the less included as such, since they are expected to have a big impact on the resulting price. "
   ]
  },
  {
   "cell_type": "markdown",
   "metadata": {},
   "source": [
    "#### Let us use our knowledge from class to generate dummies for each category"
   ]
  },
  {
   "cell_type": "code",
   "execution_count": 35,
   "metadata": {},
   "outputs": [],
   "source": [
    "def clean_data(df):\n",
    "    '''\n",
    "    INPUT\n",
    "    df - pandas dataframe \n",
    "    \n",
    "    OUTPUT\n",
    "    X - A matrix holding all of the variables you want to consider when predicting the response\n",
    "    y - the corresponding response vector\n",
    "    \n",
    "    Perform to obtain the correct X and y objects\n",
    "    This function cleans df using the following steps to produce X and y:\n",
    "    1. Drop all the rows with no salaries\n",
    "    2. Create X as all the columns that are not the Salary column\n",
    "    3. Create y as the Salary column\n",
    "    4. Drop the Salary, Respondent, and the ExpectedSalary columns from X\n",
    "    5. For each numeric variable in X, fill the column with the mean value of the column.\n",
    "    6. Create dummy columns for all the categorical variables in X, drop the original columns\n",
    "    '''\n",
    "    X = df.drop(columns=['longitude','latitude','price','id','name','host_id','host_name','last_review','calculated_host_listings_count',])\n",
    "    y = df['price']\n",
    "    \n",
    "    X_num = X.select_dtypes(exclude=['object','O']).fillna(X.mean())\n",
    "    X_cat = X.select_dtypes(include=['object','O'])\n",
    "    \n",
    "    X = pd.concat([X_num, pd.get_dummies(X_cat, drop_first=True)], axis=1)                    \n",
    "    return X, y\n",
    "    \n",
    "#Use the function to create X and y\n",
    "X, y = clean_data(df_n)  "
   ]
  },
  {
   "cell_type": "markdown",
   "metadata": {},
   "source": [
    "#### Run a linear model with 30 % test split"
   ]
  },
  {
   "cell_type": "code",
   "execution_count": 36,
   "metadata": {},
   "outputs": [
    {
     "data": {
      "text/plain": [
       "LinearRegression(copy_X=True, fit_intercept=True, n_jobs=None, normalize=True)"
      ]
     },
     "execution_count": 36,
     "metadata": {},
     "output_type": "execute_result"
    }
   ],
   "source": [
    "X_train, X_test, y_train, y_test = train_test_split(X, y, test_size = .30, random_state=42)\n",
    "\n",
    "#Four steps from class\n",
    "\n",
    "#Instantiate\n",
    "lm_model = LinearRegression(normalize=True) \n",
    "\n",
    "lm_model.fit(X_train, y_train) "
   ]
  },
  {
   "cell_type": "markdown",
   "metadata": {},
   "source": [
    "#### Use the function from class to see the effect of each coefficient on the price"
   ]
  },
  {
   "cell_type": "code",
   "execution_count": 37,
   "metadata": {},
   "outputs": [
    {
     "data": {
      "text/html": [
       "<div>\n",
       "<style scoped>\n",
       "    .dataframe tbody tr th:only-of-type {\n",
       "        vertical-align: middle;\n",
       "    }\n",
       "\n",
       "    .dataframe tbody tr th {\n",
       "        vertical-align: top;\n",
       "    }\n",
       "\n",
       "    .dataframe thead th {\n",
       "        text-align: right;\n",
       "    }\n",
       "</style>\n",
       "<table border=\"1\" class=\"dataframe\">\n",
       "  <thead>\n",
       "    <tr style=\"text-align: right;\">\n",
       "      <th></th>\n",
       "      <th>est_int</th>\n",
       "      <th>coefs</th>\n",
       "      <th>abs_coefs</th>\n",
       "    </tr>\n",
       "  </thead>\n",
       "  <tbody>\n",
       "    <tr>\n",
       "      <th>23</th>\n",
       "      <td>room_type_Shared room</td>\n",
       "      <td>-68.465900</td>\n",
       "      <td>68.465900</td>\n",
       "    </tr>\n",
       "    <tr>\n",
       "      <th>14</th>\n",
       "      <td>neighbourhood_Oud - Berchem</td>\n",
       "      <td>63.006147</td>\n",
       "      <td>63.006147</td>\n",
       "    </tr>\n",
       "    <tr>\n",
       "      <th>11</th>\n",
       "      <td>neighbourhood_Haringrode</td>\n",
       "      <td>46.362620</td>\n",
       "      <td>46.362620</td>\n",
       "    </tr>\n",
       "    <tr>\n",
       "      <th>22</th>\n",
       "      <td>room_type_Private room</td>\n",
       "      <td>-21.314609</td>\n",
       "      <td>21.314609</td>\n",
       "    </tr>\n",
       "    <tr>\n",
       "      <th>10</th>\n",
       "      <td>neighbourhood_Eilandje</td>\n",
       "      <td>18.121121</td>\n",
       "      <td>18.121121</td>\n",
       "    </tr>\n",
       "    <tr>\n",
       "      <th>18</th>\n",
       "      <td>neighbourhood_Theaterbuurt-Meir</td>\n",
       "      <td>-18.103478</td>\n",
       "      <td>18.103478</td>\n",
       "    </tr>\n",
       "    <tr>\n",
       "      <th>15</th>\n",
       "      <td>neighbourhood_Sint-Andries</td>\n",
       "      <td>-17.364249</td>\n",
       "      <td>17.364249</td>\n",
       "    </tr>\n",
       "    <tr>\n",
       "      <th>5</th>\n",
       "      <td>distance_to_center</td>\n",
       "      <td>-12.646287</td>\n",
       "      <td>12.646287</td>\n",
       "    </tr>\n",
       "    <tr>\n",
       "      <th>7</th>\n",
       "      <td>neighbourhood_Borgerhout Intra Muros Zuid</td>\n",
       "      <td>12.195874</td>\n",
       "      <td>12.195874</td>\n",
       "    </tr>\n",
       "    <tr>\n",
       "      <th>16</th>\n",
       "      <td>neighbourhood_Stadspark</td>\n",
       "      <td>-11.882099</td>\n",
       "      <td>11.882099</td>\n",
       "    </tr>\n",
       "    <tr>\n",
       "      <th>13</th>\n",
       "      <td>neighbourhood_Historisch Centrum</td>\n",
       "      <td>-11.354155</td>\n",
       "      <td>11.354155</td>\n",
       "    </tr>\n",
       "    <tr>\n",
       "      <th>6</th>\n",
       "      <td>neighbourhood_Borgerhout Intra Muros Noord</td>\n",
       "      <td>-10.477441</td>\n",
       "      <td>10.477441</td>\n",
       "    </tr>\n",
       "    <tr>\n",
       "      <th>12</th>\n",
       "      <td>neighbourhood_Harmonie</td>\n",
       "      <td>8.746522</td>\n",
       "      <td>8.746522</td>\n",
       "    </tr>\n",
       "    <tr>\n",
       "      <th>2</th>\n",
       "      <td>reviews_per_month</td>\n",
       "      <td>-6.580381</td>\n",
       "      <td>6.580381</td>\n",
       "    </tr>\n",
       "    <tr>\n",
       "      <th>21</th>\n",
       "      <td>room_type_Hotel room</td>\n",
       "      <td>-6.553071</td>\n",
       "      <td>6.553071</td>\n",
       "    </tr>\n",
       "    <tr>\n",
       "      <th>8</th>\n",
       "      <td>neighbourhood_Brederode</td>\n",
       "      <td>6.323554</td>\n",
       "      <td>6.323554</td>\n",
       "    </tr>\n",
       "    <tr>\n",
       "      <th>9</th>\n",
       "      <td>neighbourhood_Centraal Station</td>\n",
       "      <td>-5.853691</td>\n",
       "      <td>5.853691</td>\n",
       "    </tr>\n",
       "    <tr>\n",
       "      <th>19</th>\n",
       "      <td>neighbourhood_Universiteitsbuurt</td>\n",
       "      <td>-4.291732</td>\n",
       "      <td>4.291732</td>\n",
       "    </tr>\n",
       "    <tr>\n",
       "      <th>17</th>\n",
       "      <td>neighbourhood_Stuivenberg</td>\n",
       "      <td>-3.482489</td>\n",
       "      <td>3.482489</td>\n",
       "    </tr>\n",
       "    <tr>\n",
       "      <th>20</th>\n",
       "      <td>neighbourhood_Zuid</td>\n",
       "      <td>2.860561</td>\n",
       "      <td>2.860561</td>\n",
       "    </tr>\n",
       "  </tbody>\n",
       "</table>\n",
       "</div>"
      ],
      "text/plain": [
       "                                       est_int      coefs  abs_coefs\n",
       "23                       room_type_Shared room -68.465900  68.465900\n",
       "14                 neighbourhood_Oud - Berchem  63.006147  63.006147\n",
       "11                    neighbourhood_Haringrode  46.362620  46.362620\n",
       "22                      room_type_Private room -21.314609  21.314609\n",
       "10                      neighbourhood_Eilandje  18.121121  18.121121\n",
       "18             neighbourhood_Theaterbuurt-Meir -18.103478  18.103478\n",
       "15                  neighbourhood_Sint-Andries -17.364249  17.364249\n",
       "5                           distance_to_center -12.646287  12.646287\n",
       "7    neighbourhood_Borgerhout Intra Muros Zuid  12.195874  12.195874\n",
       "16                     neighbourhood_Stadspark -11.882099  11.882099\n",
       "13            neighbourhood_Historisch Centrum -11.354155  11.354155\n",
       "6   neighbourhood_Borgerhout Intra Muros Noord -10.477441  10.477441\n",
       "12                      neighbourhood_Harmonie   8.746522   8.746522\n",
       "2                            reviews_per_month  -6.580381   6.580381\n",
       "21                        room_type_Hotel room  -6.553071   6.553071\n",
       "8                      neighbourhood_Brederode   6.323554   6.323554\n",
       "9               neighbourhood_Centraal Station  -5.853691   5.853691\n",
       "19            neighbourhood_Universiteitsbuurt  -4.291732   4.291732\n",
       "17                   neighbourhood_Stuivenberg  -3.482489   3.482489\n",
       "20                          neighbourhood_Zuid   2.860561   2.860561"
      ]
     },
     "execution_count": 37,
     "metadata": {},
     "output_type": "execute_result"
    }
   ],
   "source": [
    "def coef_weights(coefficients, X_train):\n",
    "    '''\n",
    "    INPUT:\n",
    "    coefficients - the coefficients of the linear model \n",
    "    X_train - the training data, so the column names can be used\n",
    "    OUTPUT:\n",
    "    coefs_df - a dataframe holding the coefficient, estimate, and abs(estimate)\n",
    "    \n",
    "    Provides a dataframe that can be used to understand the most influential coefficients\n",
    "    in a linear model by providing the coefficient estimates along with the name of the \n",
    "    variable attached to the coefficient.\n",
    "    '''\n",
    "    coefs_df = pd.DataFrame()\n",
    "    coefs_df['est_int'] = X_train.columns\n",
    "    coefs_df['coefs'] = lm_model.coef_\n",
    "    coefs_df['abs_coefs'] = np.abs(lm_model.coef_)\n",
    "    coefs_df = coefs_df.sort_values('abs_coefs', ascending=False)\n",
    "    return coefs_df\n",
    "\n",
    "#Use the function\n",
    "coef_df = coef_weights(lm_model.coef_, X_train)\n",
    "\n",
    "#A quick look at the top results\n",
    "coef_df.head(20)"
   ]
  },
  {
   "cell_type": "markdown",
   "metadata": {},
   "source": [
    "### Is it possible to predict prices of air bnb objects with the data and model at hand? "
   ]
  },
  {
   "cell_type": "code",
   "execution_count": 45,
   "metadata": {},
   "outputs": [
    {
     "data": {
      "text/plain": [
       "'The r-squared score for the model using all the reasonable variables was -0.0012343507082119842 on 412 values.'"
      ]
     },
     "execution_count": 45,
     "metadata": {},
     "output_type": "execute_result"
    }
   ],
   "source": [
    "y_test_preds = lm_model.predict(X_test)\n",
    "'The r-squared score for the model using all the reasonable variables was {} on {} values.'.format(r2_score(y_test, y_test_preds), len(y_test))"
   ]
  },
  {
   "cell_type": "markdown",
   "metadata": {},
   "source": [
    "The resulting prediction is very poor and therefore other models or/and variables should be used to help predictiong prices for air bnb objects."
   ]
  },
  {
   "cell_type": "code",
   "execution_count": null,
   "metadata": {},
   "outputs": [],
   "source": []
  }
 ],
 "metadata": {
  "kernelspec": {
   "display_name": "Python 3",
   "language": "python",
   "name": "python3"
  },
  "language_info": {
   "codemirror_mode": {
    "name": "ipython",
    "version": 3
   },
   "file_extension": ".py",
   "mimetype": "text/x-python",
   "name": "python",
   "nbconvert_exporter": "python",
   "pygments_lexer": "ipython3",
   "version": "3.7.3"
  }
 },
 "nbformat": 4,
 "nbformat_minor": 2
}
